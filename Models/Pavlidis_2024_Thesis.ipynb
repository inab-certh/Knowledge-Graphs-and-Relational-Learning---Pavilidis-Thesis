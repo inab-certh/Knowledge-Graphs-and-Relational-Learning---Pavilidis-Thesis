{
  "cells": [
    {
      "cell_type": "markdown",
      "id": "6e7cb05c",
      "metadata": {
        "id": "6e7cb05c"
      },
      "source": [
        "# mOWL: Python library for machine learning with ontologies\n",
        "\n",
        "mOWL is a Python library designed to standardize machine learning models that use ontologies as main data source.\n",
        "To get familiar with the models implemented in mOWL and more information about the library we recommend the following documents:\n",
        "- [Semantic similarity and machine learning with ontologies](https://academic.oup.com/bib/article/22/4/bbaa199/5922325)\n",
        "- [mOWL: Python library for machine learning with biomedical ontologies](https://academic.oup.com/bioinformatics/article/39/1/btac811/6935780?login=true)\n",
        "- [mOWL documentation](https://mowl.readthedocs.io/en/latest/index.html)\n",
        "\n",
        "The topics we cover in this tutorial are:\n",
        "- mOWL intallation\n",
        "- Creation of an simple ontology: Family Domain\n",
        "- Graph-based embeddings using random walks\n",
        "\n",
        "## Ontology creation:\n",
        "To get started, you can install mOWL using pip:"
      ]
    },
    {
      "cell_type": "markdown",
      "id": "zjIwpbpe1bZ0",
      "metadata": {
        "id": "zjIwpbpe1bZ0"
      },
      "source": [
        "## mOWL installation:\n",
        "\n",
        "mOWL is available on the [PyPi repository](https://pypi.org/project/mowl-borg/) and the source code is available on [Github](https://github.com/bio-ontology-research-group/mowl). For this tutorial we will install mOWL from PyPi using the following command:"
      ]
    },
    {
      "cell_type": "code",
      "execution_count": 1,
      "id": "6a90be79",
      "metadata": {
        "colab": {
          "base_uri": "https://localhost:8080/"
        },
        "id": "6a90be79",
        "outputId": "9f7e7599-5527-461e-8ada-93c5322bbb71"
      },
      "outputs": [
        {
          "output_type": "stream",
          "name": "stdout",
          "text": [
            "Collecting mowl-borg\n",
            "  Downloading mowl_borg-0.3.0-py3-none-any.whl (68.9 MB)\n",
            "\u001b[2K     \u001b[90m━━━━━━━━━━━━━━━━━━━━━━━━━━━━━━━━━━━━━━━━\u001b[0m \u001b[32m68.9/68.9 MB\u001b[0m \u001b[31m5.6 MB/s\u001b[0m eta \u001b[36m0:00:00\u001b[0m\n",
            "\u001b[?25hRequirement already satisfied: click in /usr/local/lib/python3.10/dist-packages (from mowl-borg) (8.1.7)\n",
            "Collecting deprecated (from mowl-borg)\n",
            "  Downloading Deprecated-1.2.14-py2.py3-none-any.whl (9.6 kB)\n",
            "Requirement already satisfied: gensim>=4.3.0 in /usr/local/lib/python3.10/dist-packages (from mowl-borg) (4.3.2)\n",
            "Collecting JPype1==1.4.1 (from mowl-borg)\n",
            "  Downloading JPype1-1.4.1-cp310-cp310-manylinux_2_12_x86_64.manylinux2010_x86_64.whl (465 kB)\n",
            "\u001b[2K     \u001b[90m━━━━━━━━━━━━━━━━━━━━━━━━━━━━━━━━━━━━━━━━\u001b[0m \u001b[32m465.3/465.3 kB\u001b[0m \u001b[31m11.3 MB/s\u001b[0m eta \u001b[36m0:00:00\u001b[0m\n",
            "\u001b[?25hRequirement already satisfied: matplotlib in /usr/local/lib/python3.10/dist-packages (from mowl-borg) (3.7.1)\n",
            "Requirement already satisfied: networkx in /usr/local/lib/python3.10/dist-packages (from mowl-borg) (3.3)\n",
            "Requirement already satisfied: numpy in /usr/local/lib/python3.10/dist-packages (from mowl-borg) (1.25.2)\n",
            "Requirement already satisfied: pandas in /usr/local/lib/python3.10/dist-packages (from mowl-borg) (2.0.3)\n",
            "Collecting pykeen==1.10.1 (from mowl-borg)\n",
            "  Downloading pykeen-1.10.1-py3-none-any.whl (739 kB)\n",
            "\u001b[2K     \u001b[90m━━━━━━━━━━━━━━━━━━━━━━━━━━━━━━━━━━━━━━━━\u001b[0m \u001b[32m739.3/739.3 kB\u001b[0m \u001b[31m27.1 MB/s\u001b[0m eta \u001b[36m0:00:00\u001b[0m\n",
            "\u001b[?25hRequirement already satisfied: pyyaml in /usr/local/lib/python3.10/dist-packages (from mowl-borg) (6.0.1)\n",
            "Requirement already satisfied: requests in /usr/local/lib/python3.10/dist-packages (from mowl-borg) (2.31.0)\n",
            "Requirement already satisfied: scikit-learn in /usr/local/lib/python3.10/dist-packages (from mowl-borg) (1.2.2)\n",
            "Requirement already satisfied: scipy in /usr/local/lib/python3.10/dist-packages (from mowl-borg) (1.11.4)\n",
            "Collecting temp (from mowl-borg)\n",
            "  Downloading temp-2020.7.2.tar.gz (1.4 kB)\n",
            "  Preparing metadata (setup.py) ... \u001b[?25l\u001b[?25hdone\n",
            "Requirement already satisfied: tqdm in /usr/local/lib/python3.10/dist-packages (from mowl-borg) (4.66.4)\n",
            "Requirement already satisfied: torch in /usr/local/lib/python3.10/dist-packages (from mowl-borg) (2.2.1+cu121)\n",
            "Requirement already satisfied: urllib3 in /usr/local/lib/python3.10/dist-packages (from mowl-borg) (2.0.7)\n",
            "Requirement already satisfied: packaging in /usr/local/lib/python3.10/dist-packages (from JPype1==1.4.1->mowl-borg) (24.0)\n",
            "Collecting dataclasses-json (from pykeen==1.10.1->mowl-borg)\n",
            "  Downloading dataclasses_json-0.6.6-py3-none-any.whl (28 kB)\n",
            "Collecting click-default-group (from pykeen==1.10.1->mowl-borg)\n",
            "  Downloading click_default_group-1.2.4-py2.py3-none-any.whl (4.1 kB)\n",
            "Collecting optuna>=2.0.0 (from pykeen==1.10.1->mowl-borg)\n",
            "  Downloading optuna-3.6.1-py3-none-any.whl (380 kB)\n",
            "\u001b[2K     \u001b[90m━━━━━━━━━━━━━━━━━━━━━━━━━━━━━━━━━━━━━━━━\u001b[0m \u001b[32m380.1/380.1 kB\u001b[0m \u001b[31m23.3 MB/s\u001b[0m eta \u001b[36m0:00:00\u001b[0m\n",
            "\u001b[?25hRequirement already satisfied: tabulate in /usr/local/lib/python3.10/dist-packages (from pykeen==1.10.1->mowl-borg) (0.9.0)\n",
            "Collecting more-click (from pykeen==1.10.1->mowl-borg)\n",
            "  Downloading more_click-0.1.2-py3-none-any.whl (6.7 kB)\n",
            "Requirement already satisfied: more-itertools in /usr/local/lib/python3.10/dist-packages (from pykeen==1.10.1->mowl-borg) (10.1.0)\n",
            "Collecting pystow>=0.4.3 (from pykeen==1.10.1->mowl-borg)\n",
            "  Downloading pystow-0.5.4-py3-none-any.whl (32 kB)\n",
            "Collecting docdata (from pykeen==1.10.1->mowl-borg)\n",
            "  Downloading docdata-0.0.3-py3-none-any.whl (5.8 kB)\n",
            "Collecting class-resolver>=0.3.10 (from pykeen==1.10.1->mowl-borg)\n",
            "  Downloading class_resolver-0.4.3-py3-none-any.whl (25 kB)\n",
            "Collecting rexmex>=0.1.3 (from pykeen==1.10.1->mowl-borg)\n",
            "  Downloading rexmex-0.1.3.tar.gz (21 kB)\n",
            "  Installing build dependencies ... \u001b[?25l\u001b[?25hdone\n",
            "  Getting requirements to build wheel ... \u001b[?25l\u001b[?25hdone\n",
            "  Installing backend dependencies ... \u001b[?25l\u001b[?25hdone\n",
            "  Preparing metadata (pyproject.toml) ... \u001b[?25l\u001b[?25hdone\n",
            "Collecting torch-max-mem>=0.0.4 (from pykeen==1.10.1->mowl-borg)\n",
            "  Downloading torch_max_mem-0.1.3-py3-none-any.whl (10 kB)\n",
            "Collecting torch-ppr>=0.0.7 (from pykeen==1.10.1->mowl-borg)\n",
            "  Downloading torch_ppr-0.0.8-py3-none-any.whl (12 kB)\n",
            "Requirement already satisfied: protobuf<4.0.0 in /usr/local/lib/python3.10/dist-packages (from pykeen==1.10.1->mowl-borg) (3.20.3)\n",
            "Requirement already satisfied: typing-extensions in /usr/local/lib/python3.10/dist-packages (from pykeen==1.10.1->mowl-borg) (4.11.0)\n",
            "Requirement already satisfied: smart-open>=1.8.1 in /usr/local/lib/python3.10/dist-packages (from gensim>=4.3.0->mowl-borg) (6.4.0)\n",
            "Requirement already satisfied: python-dateutil>=2.8.2 in /usr/local/lib/python3.10/dist-packages (from pandas->mowl-borg) (2.8.2)\n",
            "Requirement already satisfied: pytz>=2020.1 in /usr/local/lib/python3.10/dist-packages (from pandas->mowl-borg) (2023.4)\n",
            "Requirement already satisfied: tzdata>=2022.1 in /usr/local/lib/python3.10/dist-packages (from pandas->mowl-borg) (2024.1)\n",
            "Requirement already satisfied: filelock in /usr/local/lib/python3.10/dist-packages (from torch->mowl-borg) (3.14.0)\n",
            "Requirement already satisfied: sympy in /usr/local/lib/python3.10/dist-packages (from torch->mowl-borg) (1.12)\n",
            "Requirement already satisfied: jinja2 in /usr/local/lib/python3.10/dist-packages (from torch->mowl-borg) (3.1.4)\n",
            "Requirement already satisfied: fsspec in /usr/local/lib/python3.10/dist-packages (from torch->mowl-borg) (2023.6.0)\n",
            "Collecting nvidia-cuda-nvrtc-cu12==12.1.105 (from torch->mowl-borg)\n",
            "  Using cached nvidia_cuda_nvrtc_cu12-12.1.105-py3-none-manylinux1_x86_64.whl (23.7 MB)\n",
            "Collecting nvidia-cuda-runtime-cu12==12.1.105 (from torch->mowl-borg)\n",
            "  Using cached nvidia_cuda_runtime_cu12-12.1.105-py3-none-manylinux1_x86_64.whl (823 kB)\n",
            "Collecting nvidia-cuda-cupti-cu12==12.1.105 (from torch->mowl-borg)\n",
            "  Using cached nvidia_cuda_cupti_cu12-12.1.105-py3-none-manylinux1_x86_64.whl (14.1 MB)\n",
            "Collecting nvidia-cudnn-cu12==8.9.2.26 (from torch->mowl-borg)\n",
            "  Using cached nvidia_cudnn_cu12-8.9.2.26-py3-none-manylinux1_x86_64.whl (731.7 MB)\n",
            "Collecting nvidia-cublas-cu12==12.1.3.1 (from torch->mowl-borg)\n",
            "  Using cached nvidia_cublas_cu12-12.1.3.1-py3-none-manylinux1_x86_64.whl (410.6 MB)\n",
            "Collecting nvidia-cufft-cu12==11.0.2.54 (from torch->mowl-borg)\n",
            "  Using cached nvidia_cufft_cu12-11.0.2.54-py3-none-manylinux1_x86_64.whl (121.6 MB)\n",
            "Collecting nvidia-curand-cu12==10.3.2.106 (from torch->mowl-borg)\n",
            "  Using cached nvidia_curand_cu12-10.3.2.106-py3-none-manylinux1_x86_64.whl (56.5 MB)\n",
            "Collecting nvidia-cusolver-cu12==11.4.5.107 (from torch->mowl-borg)\n",
            "  Using cached nvidia_cusolver_cu12-11.4.5.107-py3-none-manylinux1_x86_64.whl (124.2 MB)\n",
            "Collecting nvidia-cusparse-cu12==12.1.0.106 (from torch->mowl-borg)\n",
            "  Using cached nvidia_cusparse_cu12-12.1.0.106-py3-none-manylinux1_x86_64.whl (196.0 MB)\n",
            "Collecting nvidia-nccl-cu12==2.19.3 (from torch->mowl-borg)\n",
            "  Using cached nvidia_nccl_cu12-2.19.3-py3-none-manylinux1_x86_64.whl (166.0 MB)\n",
            "Collecting nvidia-nvtx-cu12==12.1.105 (from torch->mowl-borg)\n",
            "  Using cached nvidia_nvtx_cu12-12.1.105-py3-none-manylinux1_x86_64.whl (99 kB)\n",
            "Requirement already satisfied: triton==2.2.0 in /usr/local/lib/python3.10/dist-packages (from torch->mowl-borg) (2.2.0)\n",
            "Collecting nvidia-nvjitlink-cu12 (from nvidia-cusolver-cu12==11.4.5.107->torch->mowl-borg)\n",
            "  Using cached nvidia_nvjitlink_cu12-12.4.127-py3-none-manylinux2014_x86_64.whl (21.1 MB)\n",
            "Requirement already satisfied: wrapt<2,>=1.10 in /usr/local/lib/python3.10/dist-packages (from deprecated->mowl-borg) (1.14.1)\n",
            "Requirement already satisfied: contourpy>=1.0.1 in /usr/local/lib/python3.10/dist-packages (from matplotlib->mowl-borg) (1.2.1)\n",
            "Requirement already satisfied: cycler>=0.10 in /usr/local/lib/python3.10/dist-packages (from matplotlib->mowl-borg) (0.12.1)\n",
            "Requirement already satisfied: fonttools>=4.22.0 in /usr/local/lib/python3.10/dist-packages (from matplotlib->mowl-borg) (4.51.0)\n",
            "Requirement already satisfied: kiwisolver>=1.0.1 in /usr/local/lib/python3.10/dist-packages (from matplotlib->mowl-borg) (1.4.5)\n",
            "Requirement already satisfied: pillow>=6.2.0 in /usr/local/lib/python3.10/dist-packages (from matplotlib->mowl-borg) (9.4.0)\n",
            "Requirement already satisfied: pyparsing>=2.3.1 in /usr/local/lib/python3.10/dist-packages (from matplotlib->mowl-borg) (3.1.2)\n",
            "Requirement already satisfied: charset-normalizer<4,>=2 in /usr/local/lib/python3.10/dist-packages (from requests->mowl-borg) (3.3.2)\n",
            "Requirement already satisfied: idna<4,>=2.5 in /usr/local/lib/python3.10/dist-packages (from requests->mowl-borg) (3.7)\n",
            "Requirement already satisfied: certifi>=2017.4.17 in /usr/local/lib/python3.10/dist-packages (from requests->mowl-borg) (2024.2.2)\n",
            "Requirement already satisfied: joblib>=1.1.1 in /usr/local/lib/python3.10/dist-packages (from scikit-learn->mowl-borg) (1.4.2)\n",
            "Requirement already satisfied: threadpoolctl>=2.0.0 in /usr/local/lib/python3.10/dist-packages (from scikit-learn->mowl-borg) (3.5.0)\n",
            "Collecting alembic>=1.5.0 (from optuna>=2.0.0->pykeen==1.10.1->mowl-borg)\n",
            "  Downloading alembic-1.13.1-py3-none-any.whl (233 kB)\n",
            "\u001b[2K     \u001b[90m━━━━━━━━━━━━━━━━━━━━━━━━━━━━━━━━━━━━━━━━\u001b[0m \u001b[32m233.4/233.4 kB\u001b[0m \u001b[31m24.7 MB/s\u001b[0m eta \u001b[36m0:00:00\u001b[0m\n",
            "\u001b[?25hCollecting colorlog (from optuna>=2.0.0->pykeen==1.10.1->mowl-borg)\n",
            "  Downloading colorlog-6.8.2-py3-none-any.whl (11 kB)\n",
            "Requirement already satisfied: sqlalchemy>=1.3.0 in /usr/local/lib/python3.10/dist-packages (from optuna>=2.0.0->pykeen==1.10.1->mowl-borg) (2.0.30)\n",
            "Requirement already satisfied: six>=1.5 in /usr/local/lib/python3.10/dist-packages (from python-dateutil>=2.8.2->pandas->mowl-borg) (1.16.0)\n",
            "Collecting marshmallow<4.0.0,>=3.18.0 (from dataclasses-json->pykeen==1.10.1->mowl-borg)\n",
            "  Downloading marshmallow-3.21.2-py3-none-any.whl (49 kB)\n",
            "\u001b[2K     \u001b[90m━━━━━━━━━━━━━━━━━━━━━━━━━━━━━━━━━━━━━━━━\u001b[0m \u001b[32m49.3/49.3 kB\u001b[0m \u001b[31m5.7 MB/s\u001b[0m eta \u001b[36m0:00:00\u001b[0m\n",
            "\u001b[?25hCollecting typing-inspect<1,>=0.4.0 (from dataclasses-json->pykeen==1.10.1->mowl-borg)\n",
            "  Downloading typing_inspect-0.9.0-py3-none-any.whl (8.8 kB)\n",
            "Requirement already satisfied: MarkupSafe>=2.0 in /usr/local/lib/python3.10/dist-packages (from jinja2->torch->mowl-borg) (2.1.5)\n",
            "Requirement already satisfied: mpmath>=0.19 in /usr/local/lib/python3.10/dist-packages (from sympy->torch->mowl-borg) (1.3.0)\n",
            "Collecting Mako (from alembic>=1.5.0->optuna>=2.0.0->pykeen==1.10.1->mowl-borg)\n",
            "  Downloading Mako-1.3.5-py3-none-any.whl (78 kB)\n",
            "\u001b[2K     \u001b[90m━━━━━━━━━━━━━━━━━━━━━━━━━━━━━━━━━━━━━━━━\u001b[0m \u001b[32m78.6/78.6 kB\u001b[0m \u001b[31m9.7 MB/s\u001b[0m eta \u001b[36m0:00:00\u001b[0m\n",
            "\u001b[?25hRequirement already satisfied: greenlet!=0.4.17 in /usr/local/lib/python3.10/dist-packages (from sqlalchemy>=1.3.0->optuna>=2.0.0->pykeen==1.10.1->mowl-borg) (3.0.3)\n",
            "Collecting mypy-extensions>=0.3.0 (from typing-inspect<1,>=0.4.0->dataclasses-json->pykeen==1.10.1->mowl-borg)\n",
            "  Downloading mypy_extensions-1.0.0-py3-none-any.whl (4.7 kB)\n",
            "Building wheels for collected packages: temp, rexmex\n",
            "  Building wheel for temp (setup.py) ... \u001b[?25l\u001b[?25hdone\n",
            "  Created wheel for temp: filename=temp-2020.7.2-py3-none-any.whl size=1230 sha256=0b919af3773b97af492e58f25b3121380dacbadb8a7cd1d1b074c9334ab73221\n",
            "  Stored in directory: /root/.cache/pip/wheels/54/f4/e0/661461cb3cbc2cd950cdd0ce8ba52bdc52a1122784a2f0e1dc\n",
            "  Building wheel for rexmex (pyproject.toml) ... \u001b[?25l\u001b[?25hdone\n",
            "  Created wheel for rexmex: filename=rexmex-0.1.3-py3-none-any.whl size=19952 sha256=2431b87943973fb0027cb9d4733ad57859719554fb6eb93ca4c3f517eb220f04\n",
            "  Stored in directory: /root/.cache/pip/wheels/13/31/9d/51fb64454e6012bc88dd72b57609646432e478ba35772736d6\n",
            "Successfully built temp rexmex\n",
            "Installing collected packages: temp, nvidia-nvtx-cu12, nvidia-nvjitlink-cu12, nvidia-nccl-cu12, nvidia-curand-cu12, nvidia-cufft-cu12, nvidia-cuda-runtime-cu12, nvidia-cuda-nvrtc-cu12, nvidia-cuda-cupti-cu12, nvidia-cublas-cu12, mypy-extensions, more-click, marshmallow, Mako, JPype1, docdata, deprecated, colorlog, click-default-group, class-resolver, typing-inspect, pystow, nvidia-cusparse-cu12, nvidia-cudnn-cu12, alembic, rexmex, optuna, nvidia-cusolver-cu12, dataclasses-json, torch-max-mem, torch-ppr, pykeen, mowl-borg\n",
            "Successfully installed JPype1-1.4.1 Mako-1.3.5 alembic-1.13.1 class-resolver-0.4.3 click-default-group-1.2.4 colorlog-6.8.2 dataclasses-json-0.6.6 deprecated-1.2.14 docdata-0.0.3 marshmallow-3.21.2 more-click-0.1.2 mowl-borg-0.3.0 mypy-extensions-1.0.0 nvidia-cublas-cu12-12.1.3.1 nvidia-cuda-cupti-cu12-12.1.105 nvidia-cuda-nvrtc-cu12-12.1.105 nvidia-cuda-runtime-cu12-12.1.105 nvidia-cudnn-cu12-8.9.2.26 nvidia-cufft-cu12-11.0.2.54 nvidia-curand-cu12-10.3.2.106 nvidia-cusolver-cu12-11.4.5.107 nvidia-cusparse-cu12-12.1.0.106 nvidia-nccl-cu12-2.19.3 nvidia-nvjitlink-cu12-12.4.127 nvidia-nvtx-cu12-12.1.105 optuna-3.6.1 pykeen-1.10.1 pystow-0.5.4 rexmex-0.1.3 temp-2020.7.2 torch-max-mem-0.1.3 torch-ppr-0.0.8 typing-inspect-0.9.0\n"
          ]
        }
      ],
      "source": [
        "!pip install mowl-borg"
      ]
    },
    {
      "cell_type": "markdown",
      "id": "22c4de0b",
      "metadata": {
        "id": "22c4de0b"
      },
      "source": [
        "## Import mOWL\n",
        "\n",
        "mOWL interfaces the OWL API. For this, we need to interface with the Java Virtual Machine (JVM). A common problem arises if Java is not installed in your working machine."
      ]
    },
    {
      "cell_type": "code",
      "execution_count": 2,
      "id": "b325c450",
      "metadata": {
        "id": "b325c450"
      },
      "outputs": [],
      "source": [
        "import mowl\n",
        "mowl.init_jvm(\"10g\") # amount of memory assigned to the JVM"
      ]
    },
    {
      "cell_type": "markdown",
      "id": "--rUgktN5U8l",
      "metadata": {
        "id": "--rUgktN5U8l"
      },
      "source": [
        "Now, let's import some objects from the OWLAPI and Java"
      ]
    },
    {
      "cell_type": "code",
      "execution_count": 3,
      "id": "e4082c2e",
      "metadata": {
        "id": "e4082c2e"
      },
      "outputs": [],
      "source": [
        "import os\n",
        "from java.util import HashSet\n",
        "from mowl.owlapi import OWLAPIAdapter\n",
        "from org.semanticweb.owlapi.model import IRI\n",
        "from mowl.corpus.base import extract_and_save_annotation_corpus"
      ]
    },
    {
      "cell_type": "markdown",
      "id": "hxyPfczFTeqi",
      "metadata": {
        "id": "hxyPfczFTeqi"
      },
      "source": [
        "### Imports για την πτυχιακή"
      ]
    },
    {
      "cell_type": "code",
      "execution_count": 4,
      "id": "T-oEWK92Tk-b",
      "metadata": {
        "colab": {
          "base_uri": "https://localhost:8080/"
        },
        "id": "T-oEWK92Tk-b",
        "outputId": "5837170b-99f5-4cc3-d163-89fc5eff2af0"
      },
      "outputs": [
        {
          "output_type": "stream",
          "name": "stderr",
          "text": [
            "INFO:pykeen.utils:Using opt_einsum\n"
          ]
        }
      ],
      "source": [
        "import mowl.datasets.builtin\n",
        "from mowl.corpus.base import extract_and_save_annotation_corpus\n",
        "\n",
        "#mowl\n",
        "from mowl.datasets.builtin import PPIYeastSlimDataset\n",
        "from mowl.corpus import extract_and_save_axiom_corpus, extract_and_save_annotation_corpus\n",
        "from mowl.owlapi import OWLAPIAdapter\n",
        "from mowl.reasoning import MOWLReasoner\n",
        "from mowl.projection import TaxonomyProjector, TaxonomyWithRelationsProjector, DL2VecProjector, OWL2VecStarProjector\n",
        "\n",
        "#EL Reasoning\n",
        "from org.semanticweb.elk.owlapi import ElkReasonerFactory\n",
        "from java.util import HashSet\n",
        "\n",
        "#deepwalks\n",
        "from mowl.walking.deepwalk.model import DeepWalk\n",
        "from gensim.models.word2vec import LineSentence\n",
        "from gensim.models import Word2Vec\n",
        "\n",
        "#KMeans\n",
        "from sklearn.cluster import KMeans\n",
        "import numpy as np\n"
      ]
    },
    {
      "cell_type": "markdown",
      "id": "OeM_N_Nh8Om_",
      "metadata": {
        "id": "OeM_N_Nh8Om_"
      },
      "source": [
        "# Graph-based embeddings\n",
        "\n",
        "\n",
        "Ontologies are formed by a TBox, an ABox and an RBox. A Knowledge\n",
        "Graph can be easily extracted from the ABox and the RBox. However, to\n",
        "encode the graph representation of the TBox, which is composed by\n",
        "(complex) concept descriptions, many approaches have been developed. In mOWL, we provide some\n",
        "methods that perform ontology projection into graphs:\n",
        "\n",
        "- **Taxonomy projection**: the projection of axioms of the form $A\n",
        "\\sqsubseteq B$ as edges $(A, subclassof, B)$.\n",
        "\n",
        "- **Taxonomy + relations**: the projection of axioms of the form $A\n",
        "\\sqsubseteq B$ and $A \\sqsubseteq \\exists R.B$ as edges $(A,\n",
        "subclassof, B)$ and $(A, R, B)$, respectively.\n",
        "\n",
        "- **DL2Vec projection**\n",
        "\n",
        "- **OWL2Vec projection**"
      ]
    },
    {
      "cell_type": "code",
      "execution_count": 6,
      "id": "eqVSEUQj8ZQX",
      "metadata": {
        "id": "eqVSEUQj8ZQX"
      },
      "outputs": [],
      "source": [
        "from mowl.projection import TaxonomyProjector, TaxonomyWithRelationsProjector, DL2VecProjector, OWL2VecStarProjector\n",
        "from mowl.datasets import PathDataset\n",
        "dataset = PathDataset(\"go-plus.owl\")"
      ]
    },
    {
      "cell_type": "markdown",
      "id": "jRWX5Tvt8_pO",
      "metadata": {
        "id": "jRWX5Tvt8_pO"
      },
      "source": [
        "## Taxonomy projector (Hierarchy only)"
      ]
    },
    {
      "cell_type": "code",
      "execution_count": null,
      "id": "DlDzP8kR83vJ",
      "metadata": {
        "id": "DlDzP8kR83vJ"
      },
      "outputs": [],
      "source": [
        "edges = TaxonomyProjector().project(dataset.ontology)\n",
        "\n",
        "\n",
        "\n",
        "for edge in edges:\n",
        "\n",
        "    src = edge.src.split(\"/\")[-1]\n",
        "    rel = edge.rel.split(\"/\")[-1]\n",
        "    dst = edge.dst.split(\"/\")[-1]\n",
        "    print(f\"{src}\\t{rel}\\t{dst}\")"
      ]
    },
    {
      "cell_type": "code",
      "execution_count": null,
      "id": "Pv28EB4y80yr",
      "metadata": {
        "id": "Pv28EB4y80yr"
      },
      "outputs": [],
      "source": [
        "# Auxiliary method to create plots\n",
        "def nx_network(edges):\n",
        "    import networkx as nx\n",
        "    import matplotlib.pyplot as plt\n",
        "    G = nx.DiGraph()\n",
        "    for edge in edges:\n",
        "        src = edge.src.split(\"/\")[-1]\n",
        "        dst = edge.dst.split(\"/\")[-1]\n",
        "        G.add_edge(src, dst)\n",
        "    #nx draw with custom colors\n",
        "    plt.figure(figsize=(5,5))\n",
        "    pos = nx.spring_layout(G)\n",
        "    nx.draw(G, pos, edge_color='black', width=1, linewidths=1,\n",
        "            node_size=500, node_color='cyan', alpha=0.9,\n",
        "            labels={node:node for node in G.nodes()})\n",
        "    #nx.draw(G, with_labels=True)\n",
        "    plt.show()"
      ]
    },
    {
      "cell_type": "code",
      "execution_count": null,
      "id": "EQBX12b99Iqc",
      "metadata": {
        "colab": {
          "base_uri": "https://localhost:8080/",
          "height": 141
        },
        "id": "EQBX12b99Iqc",
        "outputId": "f7b2c569-b32f-405d-fd9c-bcd98228b27b"
      },
      "outputs": [
        {
          "ename": "NameError",
          "evalue": "name 'edges' is not defined",
          "output_type": "error",
          "traceback": [
            "\u001b[0;31m---------------------------------------------------------------------------\u001b[0m",
            "\u001b[0;31mNameError\u001b[0m                                 Traceback (most recent call last)",
            "\u001b[0;32m<ipython-input-7-f6ae986956d2>\u001b[0m in \u001b[0;36m<cell line: 1>\u001b[0;34m()\u001b[0m\n\u001b[0;32m----> 1\u001b[0;31m \u001b[0mnx_network\u001b[0m\u001b[0;34m(\u001b[0m\u001b[0medges\u001b[0m\u001b[0;34m)\u001b[0m\u001b[0;34m\u001b[0m\u001b[0;34m\u001b[0m\u001b[0m\n\u001b[0m",
            "\u001b[0;31mNameError\u001b[0m: name 'edges' is not defined"
          ]
        }
      ],
      "source": [
        "nx_network(edges)"
      ]
    },
    {
      "cell_type": "markdown",
      "id": "2NaRksra9Wu8",
      "metadata": {
        "id": "2NaRksra9Wu8"
      },
      "source": [
        "## DL2Vec projector"
      ]
    },
    {
      "cell_type": "code",
      "execution_count": null,
      "id": "Uv09Q6vS9LoO",
      "metadata": {
        "colab": {
          "base_uri": "https://localhost:8080/"
        },
        "id": "Uv09Q6vS9LoO",
        "outputId": "a62519b3-4ba1-416e-cb55-a664ad87e053"
      },
      "outputs": [
        {
          "name": "stdout",
          "output_type": "stream",
          "text": [
            "Jane\thasChild\tMelissa\n",
            "Parent\thasChild\tPerson\n",
            "John\thasChild\tMelissa\n",
            "Female\tsubclassof\tPerson\n",
            "Person\tsuperclassof\tFemale\n",
            "Father\tsubclassof\tMale\n",
            "Male\tsuperclassof\tFather\n",
            "Jane\thasChild\tRobert\n",
            "Male\tsubclassof\tPerson\n",
            "Person\tsuperclassof\tMale\n",
            "Parent\tsubclassof\tPerson\n",
            "Person\tsuperclassof\tParent\n",
            "Mother\tsubclassof\tFemale\n",
            "Female\tsuperclassof\tMother\n",
            "John\thasChild\tRobert\n"
          ]
        }
      ],
      "source": [
        "dl2vec_proj = DL2VecProjector(bidirectional_taxonomy=True)\n",
        "d2v_edges = dl2vec_proj.project(dataset.ontology, with_individuals=True)\n",
        "\n",
        "for edge in d2v_edges:\n",
        "    src = edge.src.split(\"/\")[-1]\n",
        "    rel = edge.rel.split(\"/\")[-1]\n",
        "    dst = edge.dst.split(\"/\")[-1]\n",
        "    print(f\"{src}\\t{rel}\\t{dst}\")"
      ]
    },
    {
      "cell_type": "code",
      "execution_count": null,
      "id": "_Pqq76Ue9abD",
      "metadata": {
        "colab": {
          "base_uri": "https://localhost:8080/",
          "height": 536
        },
        "id": "_Pqq76Ue9abD",
        "outputId": "8cf5882a-5690-493e-c33e-c82d5e97dd98"
      },
      "outputs": [
        {
          "data": {
            "image/png": "[encoded data removed]",
            "text/plain": [
              "<Figure size 500x500 with 1 Axes>"
            ]
          },
          "metadata": {},
          "output_type": "display_data"
        }
      ],
      "source": [
        "nx_network(d2v_edges)\n"
      ]
    },
    {
      "cell_type": "markdown",
      "id": "Xw7B9kea9vsI",
      "metadata": {
        "id": "Xw7B9kea9vsI"
      },
      "source": [
        "## OWL2Vec* projector"
      ]
    },
    {
      "cell_type": "code",
      "execution_count": null,
      "id": "9g9V3HLm9fyc",
      "metadata": {
        "id": "9g9V3HLm9fyc"
      },
      "outputs": [],
      "source": [
        "owl2vec_proj = OWL2VecStarProjector(bidirectional_taxonomy=True)\n",
        "o2v_edges = owl2vec_proj.project(dataset.ontology)"
      ]
    },
    {
      "cell_type": "code",
      "execution_count": null,
      "id": "mct_g-LI9ybK",
      "metadata": {
        "colab": {
          "base_uri": "https://localhost:8080/",
          "height": 935
        },
        "id": "mct_g-LI9ybK",
        "outputId": "4b394f5b-9b86-48cc-8cd6-3ecf391d7a09"
      },
      "outputs": [
        {
          "name": "stdout",
          "output_type": "stream",
          "text": [
            "<class 'mowl.projection.edge.Edge'>\n",
            "<class 'mowl.projection.edge.Edge'>\n",
            "<class 'mowl.projection.edge.Edge'>\n",
            "<class 'mowl.projection.edge.Edge'>\n",
            "<class 'mowl.projection.edge.Edge'>\n",
            "<class 'mowl.projection.edge.Edge'>\n",
            "<class 'mowl.projection.edge.Edge'>\n",
            "<class 'mowl.projection.edge.Edge'>\n",
            "<class 'mowl.projection.edge.Edge'>\n",
            "<class 'mowl.projection.edge.Edge'>\n",
            "<class 'mowl.projection.edge.Edge'>\n",
            "<class 'mowl.projection.edge.Edge'>\n",
            "<class 'mowl.projection.edge.Edge'>\n",
            "<class 'mowl.projection.edge.Edge'>\n",
            "<class 'mowl.projection.edge.Edge'>\n",
            "<class 'mowl.projection.edge.Edge'>\n",
            "<class 'mowl.projection.edge.Edge'>\n",
            "<class 'mowl.projection.edge.Edge'>\n",
            "<class 'mowl.projection.edge.Edge'>\n",
            "<class 'mowl.projection.edge.Edge'>\n",
            "<class 'mowl.projection.edge.Edge'>\n",
            "<class 'mowl.projection.edge.Edge'>\n",
            "<class 'mowl.projection.edge.Edge'>\n"
          ]
        },
        {
          "data": {
            "image/png": "[encoded data removed]",
            "text/plain": [
              "<Figure size 500x500 with 1 Axes>"
            ]
          },
          "metadata": {},
          "output_type": "display_data"
        }
      ],
      "source": [
        "for edge in o2v_edges:\n",
        "  print(type(edge))\n",
        "\n",
        "nx_network(o2v_edges)\n"
      ]
    },
    {
      "cell_type": "markdown",
      "id": "r3Y3cowx-H78",
      "metadata": {
        "id": "r3Y3cowx-H78"
      },
      "source": [
        "# Random walk embeddings of a graph\n",
        "\n",
        "After generating the graph, we can embed it in different ways. Two approaches are supported in mOWL:\n",
        "- Embeddings based on random walks\n",
        "- Embeddings based on KGE\n",
        "\n",
        "Let's try the approach with random walks.\n",
        "\n",
        "The method to generate the walks will be [DeepWalk]()w"
      ]
    },
    {
      "cell_type": "code",
      "execution_count": null,
      "id": "89ujS0C4-FSE",
      "metadata": {
        "id": "89ujS0C4-FSE"
      },
      "outputs": [],
      "source": [
        "from mowl.walking.deepwalk.model import DeepWalk\n",
        "walker =  DeepWalk(\n",
        "             100, #num_walks,\n",
        "             5, #walk_length,\n",
        "             0.1, #alpha\n",
        "             outfile = \"walks_dw.txt\", # /optional/path/to/save/walks,\n",
        "             workers = 4)"
      ]
    },
    {
      "cell_type": "markdown",
      "id": "erY8hK-9G8DV",
      "metadata": {
        "id": "erY8hK-9G8DV"
      },
      "source": [
        "## Using the Taxonomy projection edges"
      ]
    },
    {
      "cell_type": "code",
      "execution_count": null,
      "id": "hcRQK65K91EZ",
      "metadata": {
        "id": "hcRQK65K91EZ"
      },
      "outputs": [],
      "source": [
        "walker.walk(o2v_edges)"
      ]
    },
    {
      "cell_type": "code",
      "execution_count": null,
      "id": "V0ukgRMHAFEp",
      "metadata": {
        "colab": {
          "base_uri": "https://localhost:8080/",
          "height": 211
        },
        "id": "V0ukgRMHAFEp",
        "outputId": "de2d0197-5488-4b99-c212-ce3605506673"
      },
      "outputs": [
        {
          "ename": "NameError",
          "evalue": "name 'walker' is not defined",
          "output_type": "error",
          "traceback": [
            "\u001b[0;31m---------------------------------------------------------------------------\u001b[0m",
            "\u001b[0;31mNameError\u001b[0m                                 Traceback (most recent call last)",
            "\u001b[0;32m<ipython-input-7-168318afbeb8>\u001b[0m in \u001b[0;36m<cell line: 4>\u001b[0;34m()\u001b[0m\n\u001b[1;32m      2\u001b[0m \u001b[0;32mfrom\u001b[0m \u001b[0mgensim\u001b[0m\u001b[0;34m.\u001b[0m\u001b[0mmodels\u001b[0m \u001b[0;32mimport\u001b[0m \u001b[0mWord2Vec\u001b[0m\u001b[0;34m\u001b[0m\u001b[0;34m\u001b[0m\u001b[0m\n\u001b[1;32m      3\u001b[0m \u001b[0;34m\u001b[0m\u001b[0m\n\u001b[0;32m----> 4\u001b[0;31m \u001b[0mwalk_corpus_file\u001b[0m \u001b[0;34m=\u001b[0m \u001b[0mwalker\u001b[0m\u001b[0;34m.\u001b[0m\u001b[0moutfile\u001b[0m\u001b[0;34m\u001b[0m\u001b[0;34m\u001b[0m\u001b[0m\n\u001b[0m\u001b[1;32m      5\u001b[0m \u001b[0msentences\u001b[0m \u001b[0;34m=\u001b[0m \u001b[0mLineSentence\u001b[0m\u001b[0;34m(\u001b[0m\u001b[0mwalk_corpus_file\u001b[0m\u001b[0;34m)\u001b[0m\u001b[0;34m\u001b[0m\u001b[0;34m\u001b[0m\u001b[0m\n\u001b[1;32m      6\u001b[0m \u001b[0;34m\u001b[0m\u001b[0m\n",
            "\u001b[0;31mNameError\u001b[0m: name 'walker' is not defined"
          ]
        }
      ],
      "source": [
        "from gensim.models.word2vec import LineSentence\n",
        "from gensim.models import Word2Vec\n",
        "\n",
        "walk_corpus_file = walker.outfile\n",
        "sentences = LineSentence(walk_corpus_file)\n",
        "\n",
        "w2v_model = Word2Vec(sentences,vector_size=20) #size = 20"
      ]
    },
    {
      "cell_type": "markdown",
      "id": "gRZVtpRgHA1f",
      "metadata": {
        "id": "gRZVtpRgHA1f"
      },
      "source": [
        "## Using the DL2Vec projection edges"
      ]
    },
    {
      "cell_type": "code",
      "execution_count": null,
      "id": "Se7QsjkvBTx9",
      "metadata": {
        "id": "Se7QsjkvBTx9"
      },
      "outputs": [],
      "source": [
        "from mowl.walking.node2vec.model import Node2Vec\n",
        "walker =  Node2Vec(\n",
        "             10, #num_walks,\n",
        "             10, #walk_length,\n",
        "             outfile = \"walks_n2v.txt\", # /optional/path/to/save/walks,\n",
        "             workers = 4)\n",
        "walker.walk(d2v_edges)"
      ]
    },
    {
      "cell_type": "code",
      "execution_count": null,
      "id": "c8AN-HLBBYBb",
      "metadata": {
        "id": "c8AN-HLBBYBb"
      },
      "outputs": [],
      "source": [
        "walk_corpus_file = walker.outfile\n",
        "sentences = LineSentence(walk_corpus_file)\n",
        "\n",
        "w2v_model = Word2Vec(sentences,vector_size = 10) #size = 10"
      ]
    },
    {
      "cell_type": "code",
      "execution_count": null,
      "id": "mIWg7_HgBjRN",
      "metadata": {
        "colab": {
          "base_uri": "https://localhost:8080/"
        },
        "id": "mIWg7_HgBjRN",
        "outputId": "05faeedd-464d-44d8-9698-f8d2b39e312d"
      },
      "outputs": [
        {
          "data": {
            "text/plain": [
              "[('http://Male', 0.5302985310554504),\n",
              " ('http://Person', 0.5038045644760132),\n",
              " ('http://subclassof', 0.4931863844394684),\n",
              " ('http://hasChild', 0.4850304126739502),\n",
              " ('http://superclassof', 0.47974687814712524),\n",
              " ('http://Female', 0.4763571321964264),\n",
              " ('http://Parent', 0.4295019805431366),\n",
              " ('http://Mother', 0.31269100308418274),\n",
              " ('http://Jane', 0.302691787481308),\n",
              " ('http://Melissa', 0.09689121693372726)]"
            ]
          },
          "execution_count": 67,
          "metadata": {},
          "output_type": "execute_result"
        }
      ],
      "source": [
        "w2v_model.wv.most_similar(\"http://Father\")"
      ]
    },
    {
      "cell_type": "markdown",
      "id": "vb1EREnbJXof",
      "metadata": {
        "id": "vb1EREnbJXof"
      },
      "source": [
        "# Get Word2vec Embeddings from OWL2Vec* projector and DeepWalks\n",
        "()"
      ]
    },
    {
      "cell_type": "code",
      "execution_count": null,
      "id": "_OT9fs7ZKqyn",
      "metadata": {
        "id": "_OT9fs7ZKqyn"
      },
      "outputs": [],
      "source": [
        "from mowl.datasets import PathDataset\n",
        "dataset = PathDataset(\"go-plus.owl\")\n",
        "projector = OWL2VecStarProjector(bidirectional_taxonomy=True) # take the dataset graph, project it onto a different rdf graph using OWL2Vec* rules\n",
        "new_edges = projector.project(dataset.ontology) #project onto graph"
      ]
    },
    {
      "cell_type": "code",
      "execution_count": null,
      "id": "Hcw1STq1BoAD",
      "metadata": {
        "id": "Hcw1STq1BoAD"
      },
      "outputs": [],
      "source": [
        "corpus_file = \"walks_gene_ontology.txt\"\n",
        "\n",
        "#generating the DeepWalk model to iterate over the Graph\n",
        "walker =  DeepWalk(\n",
        "             200, #number of walks,\n",
        "             10, #walk length,\n",
        "             0.05, #alpha: restart parameter\n",
        "             outfile = corpus_file, # /optional/path/to/save/walks,\n",
        "             workers = 4)\n",
        "\n",
        "walker.walk(new_edges) #start the walk\n",
        "walk_corpus_file = walker.outfile\n",
        "#sentences = LineSentence(walk_corpus_file) #get the sentences for the word2vec algorithm\n",
        "#w2v_model = Word2Vec(sentences, vector_size=50)\n",
        "\n",
        "\n"
      ]
    },
    {
      "cell_type": "code",
      "source": [
        "from google.colab import files\n",
        "files.download('walk_gene_ontology.txt')"
      ],
      "metadata": {
        "colab": {
          "base_uri": "https://localhost:8080/",
          "height": 34
        },
        "id": "eskJuhVp9oB7",
        "outputId": "d2ab015c-e54b-406e-bfc2-6a7ad0abb601"
      },
      "id": "eskJuhVp9oB7",
      "execution_count": null,
      "outputs": [
        {
          "output_type": "display_data",
          "data": {
            "text/plain": [
              "<IPython.core.display.Javascript object>"
            ],
            "application/javascript": [
              "\n",
              "    async function download(id, filename, size) {\n",
              "      if (!google.colab.kernel.accessAllowed) {\n",
              "        return;\n",
              "      }\n",
              "      const div = document.createElement('div');\n",
              "      const label = document.createElement('label');\n",
              "      label.textContent = `Downloading \"${filename}\": `;\n",
              "      div.appendChild(label);\n",
              "      const progress = document.createElement('progress');\n",
              "      progress.max = size;\n",
              "      div.appendChild(progress);\n",
              "      document.body.appendChild(div);\n",
              "\n",
              "      const buffers = [];\n",
              "      let downloaded = 0;\n",
              "\n",
              "      const channel = await google.colab.kernel.comms.open(id);\n",
              "      // Send a message to notify the kernel that we're ready.\n",
              "      channel.send({})\n",
              "\n",
              "      for await (const message of channel.messages) {\n",
              "        // Send a message to notify the kernel that we're ready.\n",
              "        channel.send({})\n",
              "        if (message.buffers) {\n",
              "          for (const buffer of message.buffers) {\n",
              "            buffers.push(buffer);\n",
              "            downloaded += buffer.byteLength;\n",
              "            progress.value = downloaded;\n",
              "          }\n",
              "        }\n",
              "      }\n",
              "      const blob = new Blob(buffers, {type: 'application/binary'});\n",
              "      const a = document.createElement('a');\n",
              "      a.href = window.URL.createObjectURL(blob);\n",
              "      a.download = filename;\n",
              "      div.appendChild(a);\n",
              "      a.click();\n",
              "      div.remove();\n",
              "    }\n",
              "  "
            ]
          },
          "metadata": {}
        },
        {
          "output_type": "display_data",
          "data": {
            "text/plain": [
              "<IPython.core.display.Javascript object>"
            ],
            "application/javascript": [
              "download(\"download_462f402e-982e-41de-bfcc-d3c51c1a0790\", \"walk_gene_ontology.txt\", 25523389650)"
            ]
          },
          "metadata": {}
        }
      ]
    },
    {
      "cell_type": "code",
      "execution_count": null,
      "id": "ALfJICvAe4qw",
      "metadata": {
        "colab": {
          "base_uri": "https://localhost:8080/"
        },
        "id": "ALfJICvAe4qw",
        "outputId": "44c29f41-977d-4030-f407-a1418abeb71a"
      },
      "outputs": [
        {
          "name": "stdout",
          "output_type": "stream",
          "text": [
            "SubClassOf(<http://purl.obolibrary.org/obo/GO_0140829> <http://purl.obolibrary.org/obo/GO_0015106>)\n",
            "Declaration(Class(<http://purl.obolibrary.org/obo/CHEBI_63953>))\n",
            "AnnotationAssertion(rdfs:label <http://purl.obolibrary.org/obo/GO_0140449> \"centromere-nuclear envelope anchor activity\")\n",
            "AnnotationAssertion(Annotation(<http://www.geneontology.org/formats/oboInOwl#hasDbXref> \"GOC:dph\") Annotation(<http://www.geneontology.org/formats/oboInOwl#hasDbXref> \"GOC:mah\") Annotation(<http://www.geneontology.org/formats/oboInOwl#hasDbXref> \"GOC:tb\") <http://purl.obolibrary.org/obo/IAO_0000115> <http://purl.obolibrary.org/obo/GO_0031991> \"Any process that modulates the frequency, rate or extent of contraction of the actomyosin ring involved in cytokinesis that takes place as part of a cell cycle.\")\n",
            "AnnotationAssertion(<http://www.geneontology.org/formats/oboInOwl#hasRelatedSynonym> <http://purl.obolibrary.org/obo/UBERON_0002080> \"ventriculus dexter\")\n",
            "AnnotationAssertion(Annotation(<http://www.geneontology.org/formats/oboInOwl#hasDbXref> \"GOC:ai\") <http://purl.obolibrary.org/obo/IAO_0000115> <http://purl.obolibrary.org/obo/GO_0016176> \"Binds to and increases the activity of the enzyme superoxide-generating NADPH oxidase.\")\n",
            "AnnotationAssertion(owl:deprecated <http://purl.obolibrary.org/obo/GO_0017138> \"true\"^^xsd:boolean)\n",
            "EquivalentClasses(ObjectSomeValuesFrom(<http://purl.obolibrary.org/obo/RO_0004007> <http://purl.obolibrary.org/obo/CHEBI_18407>) ObjectSomeValuesFrom(<http://purl.obolibrary.org/obo/RO_0004007> <http://purl.obolibrary.org/obo/CHEBI_33192>))\n",
            "SubClassOf(<http://purl.obolibrary.org/obo/GO_0102196> ObjectSomeValuesFrom(<http://purl.obolibrary.org/obo/RO_0000057> <http://purl.obolibrary.org/obo/CHEBI_16962>))\n",
            "AnnotationAssertion(<http://www.geneontology.org/formats/oboInOwl#hasExactSynonym> <http://purl.obolibrary.org/obo/GO_0006964> \"up regulation of biosynthetic process of antibacterial peptides active against Gram-negative bacteria\")\n",
            "AnnotationAssertion(<http://purl.org/dc/terms/conformsTo> <http://purl.obolibrary.org/obo/GO_0034462> <http://purl.obolibrary.org/obo/go/patterns/cc_assembly.yaml>)\n",
            "AnnotationAssertion(<http://www.geneontology.org/formats/oboInOwl#created_by> <http://purl.obolibrary.org/obo/GO_0106071> \"hjd\")\n",
            "AnnotationAssertion(<http://www.geneontology.org/formats/oboInOwl#hasOBONamespace> <http://purl.obolibrary.org/obo/GO_0000162> \"biological_process\")\n",
            "AnnotationAssertion(rdfs:label <http://purl.obolibrary.org/obo/GO_0070286> \"axonemal dynein complex assembly\")\n",
            "AnnotationAssertion(rdfs:label <http://purl.obolibrary.org/obo/GO_0022865> \"obsolete transmembrane electron transfer carrier\")\n",
            "SubClassOf(<http://purl.obolibrary.org/obo/UBERON_0000004> ObjectSomeValuesFrom(<http://purl.obolibrary.org/obo/RO_0002216> <http://purl.obolibrary.org/obo/GO_0007608>))\n",
            "AnnotationAssertion(<http://www.geneontology.org/formats/oboInOwl#creation_date> <http://purl.obolibrary.org/obo/GO_2000004> \"2010-07-30T02:14:33Z\")\n",
            "SubClassOf(<http://purl.obolibrary.org/obo/CHEBI_134665> <http://purl.obolibrary.org/obo/CHEBI_58846>)\n",
            "AnnotationAssertion(<http://www.geneontology.org/formats/oboInOwl#created_by> <http://purl.obolibrary.org/obo/GO_0061043> \"dph\")\n",
            "AnnotationAssertion(<http://www.geneontology.org/formats/oboInOwl#id> <http://purl.obolibrary.org/obo/GO_0072726> \"GO:0072726\")\n"
          ]
        },
        {
          "name": "stderr",
          "output_type": "stream",
          "text": [
            "IOPub data rate exceeded.\n",
            "The notebook server will temporarily stop sending output\n",
            "to the client in order to avoid crashing it.\n",
            "To change this limit, set the config variable\n",
            "`--NotebookApp.iopub_data_rate_limit`.\n",
            "\n",
            "Current values:\n",
            "NotebookApp.iopub_data_rate_limit=1000000.0 (bytes/sec)\n",
            "NotebookApp.rate_limit_window=3.0 (secs)\n",
            "\n"
          ]
        }
      ],
      "source": [
        "my_dataset = dataset #working on the above dataset\n",
        "i = 0\n",
        "\n",
        "\n",
        "for edge in my_dataset.ontology.getAxioms(): #print some axioms\n",
        "  i+=1\n",
        "  if i > 20:\n",
        "    break\n",
        "  else:\n",
        "    print(edge)\n",
        "\n",
        "\n",
        "\n",
        "\n",
        "\n",
        "\n",
        "#word2vec output\n",
        "model_keys = w2v_model.wv.key_to_index\n",
        "print(sorted([w for w in model_keys]))\n",
        "\n",
        "\n"
      ]
    },
    {
      "cell_type": "code",
      "execution_count": null,
      "id": "klkKoDonr0xj",
      "metadata": {
        "id": "klkKoDonr0xj"
      },
      "outputs": [],
      "source": [
        "# Save the word vectors to a text file\n",
        "with open('OWL2VecStar_projection_with_word2vec_embeddings_.txt', 'w', encoding='utf-8') as f:\n",
        "    for word in model_keys:\n",
        "        vector = ' '.join(map(str, w2v_model.wv[word]))\n",
        "        f.write(f'{word} {vector}\\n')"
      ]
    },
    {
      "cell_type": "markdown",
      "id": "2vdPOmMJ3LMJ",
      "metadata": {
        "id": "2vdPOmMJ3LMJ"
      },
      "source": [
        "# Get Some Clusters\n"
      ]
    },
    {
      "cell_type": "code",
      "source": [
        "from sklearn.cluster import KMeans\n",
        "import numpy as np\n",
        "\n",
        "def load_word_embeddings(file_path):\n",
        "    word_embeddings = {}\n",
        "    with open(file_path, 'r', encoding='utf-8') as file:\n",
        "        for line in file:\n",
        "            parts = line.strip().split(' ')\n",
        "            word = parts[0]\n",
        "            vector = np.array(parts[1:], dtype=float)\n",
        "            word_embeddings[word] = vector\n",
        "    return word_embeddings"
      ],
      "metadata": {
        "id": "-o9_7DFWgaEC"
      },
      "id": "-o9_7DFWgaEC",
      "execution_count": 16,
      "outputs": []
    },
    {
      "cell_type": "code",
      "execution_count": null,
      "id": "pOYWta1oFYvg",
      "metadata": {
        "colab": {
          "base_uri": "https://localhost:8080/"
        },
        "id": "pOYWta1oFYvg",
        "outputId": "923368d8-370f-40b2-b50a-5e9aef5778af"
      },
      "outputs": [
        {
          "name": "stderr",
          "output_type": "stream",
          "text": [
            "/usr/local/lib/python3.10/dist-packages/sklearn/cluster/_kmeans.py:870: FutureWarning: The default value of `n_init` will change from 10 to 'auto' in 1.4. Set the value of `n_init` explicitly to suppress the warning\n",
            "  warnings.warn(\n"
          ]
        }
      ],
      "source": [
        "from sklearn.cluster import KMeans\n",
        "import numpy as np\n",
        "\n",
        "def load_word_embeddings(file_path):\n",
        "    word_embeddings = {}\n",
        "    with open(file_path, 'r', encoding='utf-8') as file:\n",
        "        for line in file:\n",
        "            parts = line.strip().split(' ')\n",
        "            word = parts[0]\n",
        "            vector = np.array(parts[1:], dtype=float)\n",
        "            word_embeddings[word] = vector\n",
        "    return word_embeddings\n",
        "\n",
        "def cluster_word_embeddings(word_embeddings, num_clusters):\n",
        "    words = list(word_embeddings.keys())\n",
        "    embeddings = list(word_embeddings.values())\n",
        "\n",
        "    kmeans = KMeans(n_clusters=num_clusters)\n",
        "    kmeans.fit(embeddings)\n",
        "\n",
        "    clusters = {}\n",
        "    for i, word in enumerate(words):\n",
        "        cluster_label = kmeans.labels_[i]\n",
        "        if cluster_label not in clusters:\n",
        "            clusters[cluster_label] = []\n",
        "        clusters[cluster_label].append(word)\n",
        "\n",
        "    return clusters\n",
        "\n",
        "file_path = 'OWL2VecStar_projection_with_word2vec_embeddings_.txt'\n",
        "num_clusters = 10 #number of clusters\n",
        "word_embeddings = load_word_embeddings(file_path)\n",
        "\n",
        "clusters = cluster_word_embeddings(word_embeddings, num_clusters) #run the clustering model\n",
        "\n",
        "with open('word_vectors_clusters.txt', 'w', encoding='utf-8') as f:\n",
        "  for cluster_label, words in clusters.items():\n",
        "    f.write(f\"Cluster {cluster_label}: {words}\")\n",
        "\n"
      ]
    },
    {
      "cell_type": "markdown",
      "id": "KhsJ1VAix-XM",
      "metadata": {
        "id": "KhsJ1VAix-XM"
      },
      "source": [
        "# Get annotation Corpus"
      ]
    },
    {
      "cell_type": "code",
      "execution_count": null,
      "id": "UFWlILlIFozR",
      "metadata": {
        "id": "UFWlILlIFozR",
        "colab": {
          "base_uri": "https://localhost:8080/",
          "height": 332
        },
        "outputId": "c1786014-3444-4965-a4bd-b51415776eaa"
      },
      "outputs": [
        {
          "output_type": "error",
          "ename": "NameError",
          "evalue": "name 'corpus' is not defined",
          "traceback": [
            "\u001b[0;31m---------------------------------------------------------------------------\u001b[0m",
            "\u001b[0;31mNameError\u001b[0m                                 Traceback (most recent call last)",
            "\u001b[0;32m<ipython-input-9-cdcb9ea5ef82>\u001b[0m in \u001b[0;36m<cell line: 8>\u001b[0;34m()\u001b[0m\n\u001b[1;32m      6\u001b[0m \u001b[0;34m\u001b[0m\u001b[0m\n\u001b[1;32m      7\u001b[0m \u001b[0;31m# Call the function with the ontology and file path\u001b[0m\u001b[0;34m\u001b[0m\u001b[0;34m\u001b[0m\u001b[0m\n\u001b[0;32m----> 8\u001b[0;31m extract_and_save_annotation_corpus(dataset.ontology,\n\u001b[0m\u001b[1;32m      9\u001b[0m                                     \u001b[0mfilename\u001b[0m\u001b[0;34m,\u001b[0m\u001b[0;34m\u001b[0m\u001b[0;34m\u001b[0m\u001b[0m\n\u001b[1;32m     10\u001b[0m                                     mode=\"w\")\n",
            "\u001b[0;32m/usr/local/lib/python3.10/dist-packages/mowl/corpus/base.py\u001b[0m in \u001b[0;36mextract_and_save_annotation_corpus\u001b[0;34m(ontology, out_file, mode)\u001b[0m\n\u001b[1;32m    119\u001b[0m                     \u001b[0;31m# could filter on property\u001b[0m\u001b[0;34m\u001b[0m\u001b[0;34m\u001b[0m\u001b[0m\n\u001b[1;32m    120\u001b[0m                     \u001b[0mvalue\u001b[0m \u001b[0;34m=\u001b[0m \u001b[0mstr\u001b[0m\u001b[0;34m(\u001b[0m\u001b[0mannotation\u001b[0m\u001b[0;34m.\u001b[0m\u001b[0mgetValue\u001b[0m\u001b[0;34m(\u001b[0m\u001b[0;34m)\u001b[0m\u001b[0;34m.\u001b[0m\u001b[0mgetLiteral\u001b[0m\u001b[0;34m(\u001b[0m\u001b[0;34m)\u001b[0m\u001b[0;34m)\u001b[0m\u001b[0;34m.\u001b[0m\u001b[0mreplace\u001b[0m\u001b[0;34m(\u001b[0m\u001b[0;34m\"\\n\"\u001b[0m\u001b[0;34m,\u001b[0m \u001b[0;34m\" \"\u001b[0m\u001b[0;34m)\u001b[0m\u001b[0;34m\u001b[0m\u001b[0;34m\u001b[0m\u001b[0m\n\u001b[0;32m--> 121\u001b[0;31m                     \u001b[0mcorpus\u001b[0m\u001b[0;34m.\u001b[0m\u001b[0mappend\u001b[0m\u001b[0;34m(\u001b[0m\u001b[0;34mf'{ind} {obj_property} {value}\\n'\u001b[0m\u001b[0;34m)\u001b[0m\u001b[0;34m\u001b[0m\u001b[0;34m\u001b[0m\u001b[0m\n\u001b[0m\u001b[1;32m    122\u001b[0m \u001b[0;34m\u001b[0m\u001b[0m\n\u001b[1;32m    123\u001b[0m \u001b[0;34m\u001b[0m\u001b[0m\n",
            "\u001b[0;31mNameError\u001b[0m: name 'corpus' is not defined"
          ]
        }
      ],
      "source": [
        "from mowl.corpus import extract_and_save_annotation_corpus\n",
        "filename = \"annotation_corpus_gene_ontology.txt\"\n",
        "\n",
        "# Define an empty list to act as the placeholder for the corpus\n",
        "corpus = []\n",
        "\n",
        "# Call the function with the ontology and file path\n",
        "extract_and_save_annotation_corpus(dataset.ontology,\n",
        "                                    filename,\n",
        "                                    mode=\"w\")\n",
        "\n"
      ]
    },
    {
      "cell_type": "code",
      "source": [
        "import numpy as np\n",
        "import math\n",
        "data =\n",
        "np.random.seed(seed=42) # Fix random seed for reproducibility\n",
        "np.random.shuffle(data)\n",
        "train_n = int(math.ceil(len(data) * 0.8))\n",
        "valid_n = int(math.ceil(train_n * 0.8))\n",
        "train_data = data[:valid_n]\n",
        "valid_data = data[valid_n:train_n]\n",
        "test_data = data[train_n:]\n",
        "print('Number of training interactions:', len(train_data))\n",
        "print('Number of validation interactions:', len(valid_data))\n",
        "print('Number of testing interactions:', len(test_data))"
      ],
      "metadata": {
        "id": "vRbKMA7Si2Be"
      },
      "id": "vRbKMA7Si2Be",
      "execution_count": null,
      "outputs": []
    },
    {
      "cell_type": "markdown",
      "id": "h0-G35LTyCX0",
      "metadata": {
        "id": "h0-G35LTyCX0"
      },
      "source": [
        "#Second approach: Graph embeddings using TransE"
      ]
    },
    {
      "cell_type": "code",
      "execution_count": 7,
      "id": "Ccg4ktfryIW9",
      "metadata": {
        "id": "Ccg4ktfryIW9",
        "colab": {
          "base_uri": "https://localhost:8080/",
          "height": 243,
          "referenced_widgets": [
            "48fa6878c5054ddab52fc729af9b2ed3",
            "f56c9bf6f0cd4b37a5f57a4a4f380791",
            "97e7eb0577854bc893f20de4232f0238",
            "e2b789fe76bb42d2ab00af37335c23bf",
            "0667ac936ee04562a2008b221cd4a8f0",
            "4bcc887b52ca4c79bc09b85dbe5d4bd5",
            "99083c9ee0d14d7ba125617aa8ca3dc0",
            "6283479190a541ee899914bc6ddddcdb",
            "18ac4f0addcd43b0ac0416831d2b89e8",
            "42a8927dabca48c79e4ca9c6d061c0f7",
            "5576e909e0514667a5ac029e38bd955d",
            "5dfaa747af074711a62deaf20d9547f1",
            "dc75a45fd97d4179bda763e8893f5455",
            "4175cccb953f4a67b41ae1c93eb49782",
            "bbd02b353019456dbdf7052dc06ca66f",
            "75cb196e7741493fa08cdab110459293",
            "663e5340ada642adb3d0ff528106b712",
            "6ea7e9b93f4b447c9d038a1b1150c527",
            "b69d6ff22c8b4382ad55c5fe87b09ac9",
            "bf3855651a5f44798be6d8acc07d4a6c",
            "57a806c4b2854e85a5f0c9c82632a484",
            "ccf61a04ee5d4a3e840eb0c6316b7d79"
          ]
        },
        "outputId": "af32defa-186a-43c7-edd5-8edadb6fb2b1"
      },
      "outputs": [
        {
          "output_type": "display_data",
          "data": {
            "text/plain": [
              "Training epochs on cpu:   0%|          | 0/1 [00:00<?, ?epoch/s]"
            ],
            "application/vnd.jupyter.widget-view+json": {
              "version_major": 2,
              "version_minor": 0,
              "model_id": "48fa6878c5054ddab52fc729af9b2ed3"
            }
          },
          "metadata": {}
        },
        {
          "output_type": "display_data",
          "data": {
            "text/plain": [
              "Training batches on cpu:   0%|          | 0/12198 [00:00<?, ?batch/s]"
            ],
            "application/vnd.jupyter.widget-view+json": {
              "version_major": 2,
              "version_minor": 0,
              "model_id": "5dfaa747af074711a62deaf20d9547f1"
            }
          },
          "metadata": {}
        },
        {
          "output_type": "error",
          "ename": "FileNotFoundError",
          "evalue": "[Errno 2] No such file or directory: 'transe_embeddings_ALL.txt'",
          "traceback": [
            "\u001b[0;31m---------------------------------------------------------------------------\u001b[0m",
            "\u001b[0;31mFileNotFoundError\u001b[0m                         Traceback (most recent call last)",
            "\u001b[0;32m<ipython-input-7-65a8a6935cf2>\u001b[0m in \u001b[0;36m<cell line: 21>\u001b[0;34m()\u001b[0m\n\u001b[1;32m     19\u001b[0m \u001b[0mrole_embs\u001b[0m \u001b[0;34m=\u001b[0m \u001b[0mmodel\u001b[0m\u001b[0;34m.\u001b[0m\u001b[0mobject_property_embeddings\u001b[0m\u001b[0;34m\u001b[0m\u001b[0;34m\u001b[0m\u001b[0m\n\u001b[1;32m     20\u001b[0m \u001b[0mind_embeddings\u001b[0m \u001b[0;34m=\u001b[0m \u001b[0mmodel\u001b[0m\u001b[0;34m.\u001b[0m\u001b[0mindividual_embeddings\u001b[0m\u001b[0;34m\u001b[0m\u001b[0;34m\u001b[0m\u001b[0m\n\u001b[0;32m---> 21\u001b[0;31m \u001b[0;32mwith\u001b[0m \u001b[0mopen\u001b[0m\u001b[0;34m(\u001b[0m\u001b[0;34m\"transe_embeddings_ALL.txt\"\u001b[0m\u001b[0;34m)\u001b[0m \u001b[0;32mas\u001b[0m \u001b[0mf\u001b[0m\u001b[0;34m:\u001b[0m\u001b[0;34m\u001b[0m\u001b[0;34m\u001b[0m\u001b[0m\n\u001b[0m\u001b[1;32m     22\u001b[0m   \u001b[0mf\u001b[0m\u001b[0;34m.\u001b[0m\u001b[0mwrite\u001b[0m\u001b[0;34m(\u001b[0m\u001b[0mrole_embs\u001b[0m\u001b[0;34m)\u001b[0m\u001b[0;34m\u001b[0m\u001b[0;34m\u001b[0m\u001b[0m\n\u001b[1;32m     23\u001b[0m   \u001b[0mf\u001b[0m\u001b[0;34m.\u001b[0m\u001b[0mwrite\u001b[0m\u001b[0;34m(\u001b[0m\u001b[0mclass_embs\u001b[0m\u001b[0;34m)\u001b[0m\u001b[0;34m\u001b[0m\u001b[0;34m\u001b[0m\u001b[0m\n",
            "\u001b[0;31mFileNotFoundError\u001b[0m: [Errno 2] No such file or directory: 'transe_embeddings_ALL.txt'"
          ]
        }
      ],
      "source": [
        "from mowl.models import GraphPlusPyKEENModel\n",
        "from mowl.projection import DL2VecProjector\n",
        "from pykeen.models import TransE\n",
        "import torch as th\n",
        "\n",
        "model = GraphPlusPyKEENModel(dataset) #using the mowl wrapper, we can get an ontology, apply OWL2VEC* projection, and then run TransE as needed\n",
        "\n",
        "model.set_projector(OWL2VecStarProjector())\n",
        "model.set_kge_method(TransE, random_seed=42)\n",
        "\n",
        "model.optimizer = th.optim.Adam\n",
        "model.lr = 0.001\n",
        "model.batch_size = 32\n",
        "model.train(epochs = 1) #epochs should be 3-5 if you run on colab. More epochs will produce better accuracy\n",
        "\n",
        "# Get embeddings\n",
        "\n",
        "class_embs = model.class_embeddings\n",
        "role_embs = model.object_property_embeddings\n",
        "ind_embeddings = model.individual_embeddings\n",
        "\n"
      ]
    },
    {
      "cell_type": "markdown",
      "source": [
        "Save the embeddings on a different file"
      ],
      "metadata": {
        "id": "OzD3UxvZTilh"
      },
      "id": "OzD3UxvZTilh"
    },
    {
      "cell_type": "code",
      "source": [
        "\n",
        "with open(\"transe_embeddings.txt\",\"w\") as f:\n",
        "  for protein in class_embs:\n",
        "    line = str(protein) + \" \" + str(str(class_embs[protein]))\n",
        "    f.write(line)\n",
        "  #f.write(str(class_embs))"
      ],
      "metadata": {
        "id": "oVR8A9r5OOa7"
      },
      "id": "oVR8A9r5OOa7",
      "execution_count": 14,
      "outputs": []
    },
    {
      "cell_type": "code",
      "source": [
        "import json\n",
        "class_embs = model.class_embeddings\n",
        "role_embs = model.object_property_embeddings\n",
        "with open(\"transe_embeddings.txt\",\"w\") as f:\n",
        "  for key in role_embs:\n",
        "    line = str(key) + \" \"+ str(role_embs[key])\n",
        "    f.write(line)\n",
        "#ind_embs = model.individual_embeddings"
      ],
      "metadata": {
        "id": "62M7gfor3yTp"
      },
      "id": "62M7gfor3yTp",
      "execution_count": null,
      "outputs": []
    },
    {
      "cell_type": "markdown",
      "source": [
        "# Get similar proteins using cosine similarity"
      ],
      "metadata": {
        "id": "QgJBu3U4ctr7"
      },
      "id": "QgJBu3U4ctr7"
    },
    {
      "cell_type": "code",
      "source": [
        "from numpy import dot\n",
        "from numpy.linalg import norm\n",
        "\n",
        "\"\"\"\n",
        "take the transe embeddings from a txt file, remove all the formatting characters and output a dictionary where every key is a protein and\n",
        "every value is the corresponding embedding\n",
        "\"\"\"\n",
        "def load_transe_embeddings(file_path):\n",
        "\n",
        "    word_embeddings = {}\n",
        "    with open(file_path, 'r', encoding='utf-8') as file:\n",
        "          parts = file.read()\n",
        "          parts= parts.strip()  #remove whitespaces on the beggining and the end\n",
        "          parts = parts.split(']') #split into a list of different embeddings\n",
        "\n",
        "          for embedding in parts:\n",
        "            #embedding = embedding.strip()\n",
        "\n",
        "            #remove formatting\n",
        "            embedding = embedding.replace(\"[\", \"\")\n",
        "            embedding = embedding.replace(\"\\n\", \"\")\n",
        "\n",
        "            #eache of the embedding values is seperated with a whitespace character, so we are creating a list with all the embeddings\n",
        "            embedding_list = embedding.split(\" \")\n",
        "            word = embedding_list[0]\n",
        "\n",
        "            vectorlist = []\n",
        "            for item in embedding_list:\n",
        "              try:\n",
        "                vectorlist.append(float(item))\n",
        "              except:\n",
        "                continue\n",
        "\n",
        "            vector = np.array(vectorlist, dtype=float) #all vectors are turned into a numpy array\n",
        "            word_embeddings[word] = vector #add to dictionary\n",
        "\n",
        "\n",
        "    return word_embeddings\n",
        "\n",
        "\n",
        "def compute_cosine_similarity(vector,word_embeddings):\n",
        "  similarity_ranks ={}\n",
        "  i = 0\n",
        "\n",
        "  for embedding in word_embeddings:\n",
        "\n",
        "    try:\n",
        "      similarity_ranks[embedding] = dot(vector, word_embeddings[embedding])/(norm(vector)*norm(word_embeddings[embedding]))  #cosine_similiraty = dot(a, b)/(norm(a)*norm(b))\n",
        "    except:\n",
        "      similarity_ranks[embedding] = 0\n",
        "    i += 1 #iterate\n",
        "\n",
        "  return similarity_ranks\n",
        "\n",
        "def top_k_similar(word_embeddings,k): # Get the top k  mosti similar items\n",
        "  sorted_items = sorted(word_embeddings.items(), key=lambda item: item[1], reverse=True)\n",
        "\n",
        "  top_k_items = sorted_items[:k]\n",
        "\n",
        "  return top_k_items\n",
        "\n",
        "word_embeddings = load_word_embeddings(\"OWL2VecStar_projection_with_word2vec_embeddings_.txt\") #load a dictionary with all the word embeddings from the syntactical analysis\n",
        "\n",
        "test_embedding = word_embeddings[\"http://purl.obolibrary.org/obo/GO_0062085\"] #example test\n",
        "\n",
        "\n",
        "similarity = compute_cosine_similarity(test_embedding,word_embeddings) #create similarity dictionary. (protein, cosine_sim(test_embedding,protein)) as key-value pairs\n",
        "\n",
        "\n",
        "most_similar = top_k_similar(similarity,10)\n",
        "for protein in most_similar:\n",
        "  print(protein)\n",
        "\n",
        "print(\"AND NOW TRANSE EMBEDDINGS:\")\n",
        "word_embeddings = load_transe_embeddings(\"transe_embeddings.txt\") #load a dictionary with all the word embeddings from the transe algorithm\n",
        "i=0\n",
        "\"\"\"\n",
        "for embedding in word_embeddings:\n",
        "  print(embedding,word_embeddings[embedding],len(word_embeddings[embedding]))\n",
        "  i+=1\n",
        "  if i ==20:\n",
        "    break\n",
        "\"\"\"\n",
        "similarity = compute_cosine_similarity(test_embedding,word_embeddings)\n",
        "\n",
        "most_similar = top_k_similar(similarity,10)\n",
        "for protein in most_similar:\n",
        "  print(protein)\n",
        "\n"
      ],
      "metadata": {
        "colab": {
          "base_uri": "https://localhost:8080/"
        },
        "id": "YgbY1I8ic7j-",
        "outputId": "b04b1ea1-9999-4b02-aa38-acd0c195ec84"
      },
      "id": "YgbY1I8ic7j-",
      "execution_count": 40,
      "outputs": [
        {
          "output_type": "stream",
          "name": "stdout",
          "text": [
            "('http://purl.obolibrary.org/obo/GO_0062085', 1.0000000000000002)\n",
            "('http://purl.obolibrary.org/obo/GO_0045227', 0.9070664249222369)\n",
            "('http://purl.obolibrary.org/obo/GO_1901915', 0.8935910209536095)\n",
            "('http://purl.obolibrary.org/obo/GO_0060635', 0.8659759721214098)\n",
            "('http://purl.obolibrary.org/obo/GO_0062084', 0.8605538275656214)\n",
            "('http://purl.obolibrary.org/obo/GO_0010557', 0.8109510404455462)\n",
            "('http://purl.obolibrary.org/obo/GO_2001008', 0.7914334456214795)\n",
            "('http://purl.obolibrary.org/obo/GO_0045726', 0.7870599078556005)\n",
            "('http://purl.obolibrary.org/obo/GO_0046985', 0.7851064996036918)\n",
            "('http://purl.obolibrary.org/obo/GO_1901913', 0.7680510594658835)\n",
            "AND NOW TRANSE EMBEDDINGS:\n",
            "('http://purl.obolibrary.org/obo/CHEBI_132742', 0.5374056296496189)\n",
            "('http://purl.obolibrary.org/obo/CHEBI_33276', 0.5262754733279006)\n",
            "('http://purl.obolibrary.org/obo/GO_0016015', 0.520548503542421)\n",
            "('http://purl.obolibrary.org/obo/GO_0016701', 0.5194607793879619)\n",
            "('http://purl.obolibrary.org/obo/GO_0071136', 0.5095097357088403)\n",
            "('http://purl.obolibrary.org/obo/CHEBI_136179', 0.49798241421735573)\n",
            "('http://purl.obolibrary.org/obo/CHEBI_27343', 0.4934541518610028)\n",
            "('http://purl.obolibrary.org/obo/CHEBI_28985', 0.4882551886354483)\n",
            "('http://purl.obolibrary.org/obo/GO_1904689', 0.48388617856624366)\n",
            "('http://purl.obolibrary.org/obo/GO_0106397', 0.4819398509924575)\n"
          ]
        }
      ]
    }
  ],
  "metadata": {
    "colab": {
      "collapsed_sections": [
        "jRWX5Tvt8_pO",
        "2NaRksra9Wu8"
      ],
      "provenance": []
    },
    "jupytext": {
      "cell_metadata_filter": "-all",
      "main_language": "python",
      "notebook_metadata_filter": "-all"
    },
    "kernelspec": {
      "display_name": "Python 3 (ipykernel)",
      "language": "python",
      "name": "python3"
    },
    "language_info": {
      "codemirror_mode": {
        "name": "ipython",
        "version": 3
      },
      "file_extension": ".py",
      "mimetype": "text/x-python",
      "name": "python",
      "nbconvert_exporter": "python",
      "pygments_lexer": "ipython3",
      "version": "3.8.0"
    },
    "widgets": {
      "application/vnd.jupyter.widget-state+json": {
        "48fa6878c5054ddab52fc729af9b2ed3": {
          "model_module": "@jupyter-widgets/controls",
          "model_name": "HBoxModel",
          "model_module_version": "1.5.0",
          "state": {
            "_dom_classes": [],
            "_model_module": "@jupyter-widgets/controls",
            "_model_module_version": "1.5.0",
            "_model_name": "HBoxModel",
            "_view_count": null,
            "_view_module": "@jupyter-widgets/controls",
            "_view_module_version": "1.5.0",
            "_view_name": "HBoxView",
            "box_style": "",
            "children": [
              "IPY_MODEL_f56c9bf6f0cd4b37a5f57a4a4f380791",
              "IPY_MODEL_97e7eb0577854bc893f20de4232f0238",
              "IPY_MODEL_e2b789fe76bb42d2ab00af37335c23bf"
            ],
            "layout": "IPY_MODEL_0667ac936ee04562a2008b221cd4a8f0"
          }
        },
        "f56c9bf6f0cd4b37a5f57a4a4f380791": {
          "model_module": "@jupyter-widgets/controls",
          "model_name": "HTMLModel",
          "model_module_version": "1.5.0",
          "state": {
            "_dom_classes": [],
            "_model_module": "@jupyter-widgets/controls",
            "_model_module_version": "1.5.0",
            "_model_name": "HTMLModel",
            "_view_count": null,
            "_view_module": "@jupyter-widgets/controls",
            "_view_module_version": "1.5.0",
            "_view_name": "HTMLView",
            "description": "",
            "description_tooltip": null,
            "layout": "IPY_MODEL_4bcc887b52ca4c79bc09b85dbe5d4bd5",
            "placeholder": "​",
            "style": "IPY_MODEL_99083c9ee0d14d7ba125617aa8ca3dc0",
            "value": "Training epochs on cpu: 100%"
          }
        },
        "97e7eb0577854bc893f20de4232f0238": {
          "model_module": "@jupyter-widgets/controls",
          "model_name": "FloatProgressModel",
          "model_module_version": "1.5.0",
          "state": {
            "_dom_classes": [],
            "_model_module": "@jupyter-widgets/controls",
            "_model_module_version": "1.5.0",
            "_model_name": "FloatProgressModel",
            "_view_count": null,
            "_view_module": "@jupyter-widgets/controls",
            "_view_module_version": "1.5.0",
            "_view_name": "ProgressView",
            "bar_style": "success",
            "description": "",
            "description_tooltip": null,
            "layout": "IPY_MODEL_6283479190a541ee899914bc6ddddcdb",
            "max": 1,
            "min": 0,
            "orientation": "horizontal",
            "style": "IPY_MODEL_18ac4f0addcd43b0ac0416831d2b89e8",
            "value": 1
          }
        },
        "e2b789fe76bb42d2ab00af37335c23bf": {
          "model_module": "@jupyter-widgets/controls",
          "model_name": "HTMLModel",
          "model_module_version": "1.5.0",
          "state": {
            "_dom_classes": [],
            "_model_module": "@jupyter-widgets/controls",
            "_model_module_version": "1.5.0",
            "_model_name": "HTMLModel",
            "_view_count": null,
            "_view_module": "@jupyter-widgets/controls",
            "_view_module_version": "1.5.0",
            "_view_name": "HTMLView",
            "description": "",
            "description_tooltip": null,
            "layout": "IPY_MODEL_42a8927dabca48c79e4ca9c6d061c0f7",
            "placeholder": "​",
            "style": "IPY_MODEL_5576e909e0514667a5ac029e38bd955d",
            "value": " 1/1 [20:31&lt;00:00, 1231.35s/epoch, loss=0.685, prev_loss=nan]"
          }
        },
        "0667ac936ee04562a2008b221cd4a8f0": {
          "model_module": "@jupyter-widgets/base",
          "model_name": "LayoutModel",
          "model_module_version": "1.2.0",
          "state": {
            "_model_module": "@jupyter-widgets/base",
            "_model_module_version": "1.2.0",
            "_model_name": "LayoutModel",
            "_view_count": null,
            "_view_module": "@jupyter-widgets/base",
            "_view_module_version": "1.2.0",
            "_view_name": "LayoutView",
            "align_content": null,
            "align_items": null,
            "align_self": null,
            "border": null,
            "bottom": null,
            "display": null,
            "flex": null,
            "flex_flow": null,
            "grid_area": null,
            "grid_auto_columns": null,
            "grid_auto_flow": null,
            "grid_auto_rows": null,
            "grid_column": null,
            "grid_gap": null,
            "grid_row": null,
            "grid_template_areas": null,
            "grid_template_columns": null,
            "grid_template_rows": null,
            "height": null,
            "justify_content": null,
            "justify_items": null,
            "left": null,
            "margin": null,
            "max_height": null,
            "max_width": null,
            "min_height": null,
            "min_width": null,
            "object_fit": null,
            "object_position": null,
            "order": null,
            "overflow": null,
            "overflow_x": null,
            "overflow_y": null,
            "padding": null,
            "right": null,
            "top": null,
            "visibility": null,
            "width": null
          }
        },
        "4bcc887b52ca4c79bc09b85dbe5d4bd5": {
          "model_module": "@jupyter-widgets/base",
          "model_name": "LayoutModel",
          "model_module_version": "1.2.0",
          "state": {
            "_model_module": "@jupyter-widgets/base",
            "_model_module_version": "1.2.0",
            "_model_name": "LayoutModel",
            "_view_count": null,
            "_view_module": "@jupyter-widgets/base",
            "_view_module_version": "1.2.0",
            "_view_name": "LayoutView",
            "align_content": null,
            "align_items": null,
            "align_self": null,
            "border": null,
            "bottom": null,
            "display": null,
            "flex": null,
            "flex_flow": null,
            "grid_area": null,
            "grid_auto_columns": null,
            "grid_auto_flow": null,
            "grid_auto_rows": null,
            "grid_column": null,
            "grid_gap": null,
            "grid_row": null,
            "grid_template_areas": null,
            "grid_template_columns": null,
            "grid_template_rows": null,
            "height": null,
            "justify_content": null,
            "justify_items": null,
            "left": null,
            "margin": null,
            "max_height": null,
            "max_width": null,
            "min_height": null,
            "min_width": null,
            "object_fit": null,
            "object_position": null,
            "order": null,
            "overflow": null,
            "overflow_x": null,
            "overflow_y": null,
            "padding": null,
            "right": null,
            "top": null,
            "visibility": null,
            "width": null
          }
        },
        "99083c9ee0d14d7ba125617aa8ca3dc0": {
          "model_module": "@jupyter-widgets/controls",
          "model_name": "DescriptionStyleModel",
          "model_module_version": "1.5.0",
          "state": {
            "_model_module": "@jupyter-widgets/controls",
            "_model_module_version": "1.5.0",
            "_model_name": "DescriptionStyleModel",
            "_view_count": null,
            "_view_module": "@jupyter-widgets/base",
            "_view_module_version": "1.2.0",
            "_view_name": "StyleView",
            "description_width": ""
          }
        },
        "6283479190a541ee899914bc6ddddcdb": {
          "model_module": "@jupyter-widgets/base",
          "model_name": "LayoutModel",
          "model_module_version": "1.2.0",
          "state": {
            "_model_module": "@jupyter-widgets/base",
            "_model_module_version": "1.2.0",
            "_model_name": "LayoutModel",
            "_view_count": null,
            "_view_module": "@jupyter-widgets/base",
            "_view_module_version": "1.2.0",
            "_view_name": "LayoutView",
            "align_content": null,
            "align_items": null,
            "align_self": null,
            "border": null,
            "bottom": null,
            "display": null,
            "flex": null,
            "flex_flow": null,
            "grid_area": null,
            "grid_auto_columns": null,
            "grid_auto_flow": null,
            "grid_auto_rows": null,
            "grid_column": null,
            "grid_gap": null,
            "grid_row": null,
            "grid_template_areas": null,
            "grid_template_columns": null,
            "grid_template_rows": null,
            "height": null,
            "justify_content": null,
            "justify_items": null,
            "left": null,
            "margin": null,
            "max_height": null,
            "max_width": null,
            "min_height": null,
            "min_width": null,
            "object_fit": null,
            "object_position": null,
            "order": null,
            "overflow": null,
            "overflow_x": null,
            "overflow_y": null,
            "padding": null,
            "right": null,
            "top": null,
            "visibility": null,
            "width": null
          }
        },
        "18ac4f0addcd43b0ac0416831d2b89e8": {
          "model_module": "@jupyter-widgets/controls",
          "model_name": "ProgressStyleModel",
          "model_module_version": "1.5.0",
          "state": {
            "_model_module": "@jupyter-widgets/controls",
            "_model_module_version": "1.5.0",
            "_model_name": "ProgressStyleModel",
            "_view_count": null,
            "_view_module": "@jupyter-widgets/base",
            "_view_module_version": "1.2.0",
            "_view_name": "StyleView",
            "bar_color": null,
            "description_width": ""
          }
        },
        "42a8927dabca48c79e4ca9c6d061c0f7": {
          "model_module": "@jupyter-widgets/base",
          "model_name": "LayoutModel",
          "model_module_version": "1.2.0",
          "state": {
            "_model_module": "@jupyter-widgets/base",
            "_model_module_version": "1.2.0",
            "_model_name": "LayoutModel",
            "_view_count": null,
            "_view_module": "@jupyter-widgets/base",
            "_view_module_version": "1.2.0",
            "_view_name": "LayoutView",
            "align_content": null,
            "align_items": null,
            "align_self": null,
            "border": null,
            "bottom": null,
            "display": null,
            "flex": null,
            "flex_flow": null,
            "grid_area": null,
            "grid_auto_columns": null,
            "grid_auto_flow": null,
            "grid_auto_rows": null,
            "grid_column": null,
            "grid_gap": null,
            "grid_row": null,
            "grid_template_areas": null,
            "grid_template_columns": null,
            "grid_template_rows": null,
            "height": null,
            "justify_content": null,
            "justify_items": null,
            "left": null,
            "margin": null,
            "max_height": null,
            "max_width": null,
            "min_height": null,
            "min_width": null,
            "object_fit": null,
            "object_position": null,
            "order": null,
            "overflow": null,
            "overflow_x": null,
            "overflow_y": null,
            "padding": null,
            "right": null,
            "top": null,
            "visibility": null,
            "width": null
          }
        },
        "5576e909e0514667a5ac029e38bd955d": {
          "model_module": "@jupyter-widgets/controls",
          "model_name": "DescriptionStyleModel",
          "model_module_version": "1.5.0",
          "state": {
            "_model_module": "@jupyter-widgets/controls",
            "_model_module_version": "1.5.0",
            "_model_name": "DescriptionStyleModel",
            "_view_count": null,
            "_view_module": "@jupyter-widgets/base",
            "_view_module_version": "1.2.0",
            "_view_name": "StyleView",
            "description_width": ""
          }
        },
        "5dfaa747af074711a62deaf20d9547f1": {
          "model_module": "@jupyter-widgets/controls",
          "model_name": "HBoxModel",
          "model_module_version": "1.5.0",
          "state": {
            "_dom_classes": [],
            "_model_module": "@jupyter-widgets/controls",
            "_model_module_version": "1.5.0",
            "_model_name": "HBoxModel",
            "_view_count": null,
            "_view_module": "@jupyter-widgets/controls",
            "_view_module_version": "1.5.0",
            "_view_name": "HBoxView",
            "box_style": "",
            "children": [
              "IPY_MODEL_dc75a45fd97d4179bda763e8893f5455",
              "IPY_MODEL_4175cccb953f4a67b41ae1c93eb49782",
              "IPY_MODEL_bbd02b353019456dbdf7052dc06ca66f"
            ],
            "layout": "IPY_MODEL_75cb196e7741493fa08cdab110459293"
          }
        },
        "dc75a45fd97d4179bda763e8893f5455": {
          "model_module": "@jupyter-widgets/controls",
          "model_name": "HTMLModel",
          "model_module_version": "1.5.0",
          "state": {
            "_dom_classes": [],
            "_model_module": "@jupyter-widgets/controls",
            "_model_module_version": "1.5.0",
            "_model_name": "HTMLModel",
            "_view_count": null,
            "_view_module": "@jupyter-widgets/controls",
            "_view_module_version": "1.5.0",
            "_view_name": "HTMLView",
            "description": "",
            "description_tooltip": null,
            "layout": "IPY_MODEL_663e5340ada642adb3d0ff528106b712",
            "placeholder": "​",
            "style": "IPY_MODEL_6ea7e9b93f4b447c9d038a1b1150c527",
            "value": "Training batches on cpu: 100%"
          }
        },
        "4175cccb953f4a67b41ae1c93eb49782": {
          "model_module": "@jupyter-widgets/controls",
          "model_name": "FloatProgressModel",
          "model_module_version": "1.5.0",
          "state": {
            "_dom_classes": [],
            "_model_module": "@jupyter-widgets/controls",
            "_model_module_version": "1.5.0",
            "_model_name": "FloatProgressModel",
            "_view_count": null,
            "_view_module": "@jupyter-widgets/controls",
            "_view_module_version": "1.5.0",
            "_view_name": "ProgressView",
            "bar_style": "",
            "description": "",
            "description_tooltip": null,
            "layout": "IPY_MODEL_b69d6ff22c8b4382ad55c5fe87b09ac9",
            "max": 12198,
            "min": 0,
            "orientation": "horizontal",
            "style": "IPY_MODEL_bf3855651a5f44798be6d8acc07d4a6c",
            "value": 12198
          }
        },
        "bbd02b353019456dbdf7052dc06ca66f": {
          "model_module": "@jupyter-widgets/controls",
          "model_name": "HTMLModel",
          "model_module_version": "1.5.0",
          "state": {
            "_dom_classes": [],
            "_model_module": "@jupyter-widgets/controls",
            "_model_module_version": "1.5.0",
            "_model_name": "HTMLModel",
            "_view_count": null,
            "_view_module": "@jupyter-widgets/controls",
            "_view_module_version": "1.5.0",
            "_view_name": "HTMLView",
            "description": "",
            "description_tooltip": null,
            "layout": "IPY_MODEL_57a806c4b2854e85a5f0c9c82632a484",
            "placeholder": "​",
            "style": "IPY_MODEL_ccf61a04ee5d4a3e840eb0c6316b7d79",
            "value": " 12198/12198 [20:29&lt;00:00,  8.96batch/s]"
          }
        },
        "75cb196e7741493fa08cdab110459293": {
          "model_module": "@jupyter-widgets/base",
          "model_name": "LayoutModel",
          "model_module_version": "1.2.0",
          "state": {
            "_model_module": "@jupyter-widgets/base",
            "_model_module_version": "1.2.0",
            "_model_name": "LayoutModel",
            "_view_count": null,
            "_view_module": "@jupyter-widgets/base",
            "_view_module_version": "1.2.0",
            "_view_name": "LayoutView",
            "align_content": null,
            "align_items": null,
            "align_self": null,
            "border": null,
            "bottom": null,
            "display": null,
            "flex": null,
            "flex_flow": null,
            "grid_area": null,
            "grid_auto_columns": null,
            "grid_auto_flow": null,
            "grid_auto_rows": null,
            "grid_column": null,
            "grid_gap": null,
            "grid_row": null,
            "grid_template_areas": null,
            "grid_template_columns": null,
            "grid_template_rows": null,
            "height": null,
            "justify_content": null,
            "justify_items": null,
            "left": null,
            "margin": null,
            "max_height": null,
            "max_width": null,
            "min_height": null,
            "min_width": null,
            "object_fit": null,
            "object_position": null,
            "order": null,
            "overflow": null,
            "overflow_x": null,
            "overflow_y": null,
            "padding": null,
            "right": null,
            "top": null,
            "visibility": "hidden",
            "width": null
          }
        },
        "663e5340ada642adb3d0ff528106b712": {
          "model_module": "@jupyter-widgets/base",
          "model_name": "LayoutModel",
          "model_module_version": "1.2.0",
          "state": {
            "_model_module": "@jupyter-widgets/base",
            "_model_module_version": "1.2.0",
            "_model_name": "LayoutModel",
            "_view_count": null,
            "_view_module": "@jupyter-widgets/base",
            "_view_module_version": "1.2.0",
            "_view_name": "LayoutView",
            "align_content": null,
            "align_items": null,
            "align_self": null,
            "border": null,
            "bottom": null,
            "display": null,
            "flex": null,
            "flex_flow": null,
            "grid_area": null,
            "grid_auto_columns": null,
            "grid_auto_flow": null,
            "grid_auto_rows": null,
            "grid_column": null,
            "grid_gap": null,
            "grid_row": null,
            "grid_template_areas": null,
            "grid_template_columns": null,
            "grid_template_rows": null,
            "height": null,
            "justify_content": null,
            "justify_items": null,
            "left": null,
            "margin": null,
            "max_height": null,
            "max_width": null,
            "min_height": null,
            "min_width": null,
            "object_fit": null,
            "object_position": null,
            "order": null,
            "overflow": null,
            "overflow_x": null,
            "overflow_y": null,
            "padding": null,
            "right": null,
            "top": null,
            "visibility": null,
            "width": null
          }
        },
        "6ea7e9b93f4b447c9d038a1b1150c527": {
          "model_module": "@jupyter-widgets/controls",
          "model_name": "DescriptionStyleModel",
          "model_module_version": "1.5.0",
          "state": {
            "_model_module": "@jupyter-widgets/controls",
            "_model_module_version": "1.5.0",
            "_model_name": "DescriptionStyleModel",
            "_view_count": null,
            "_view_module": "@jupyter-widgets/base",
            "_view_module_version": "1.2.0",
            "_view_name": "StyleView",
            "description_width": ""
          }
        },
        "b69d6ff22c8b4382ad55c5fe87b09ac9": {
          "model_module": "@jupyter-widgets/base",
          "model_name": "LayoutModel",
          "model_module_version": "1.2.0",
          "state": {
            "_model_module": "@jupyter-widgets/base",
            "_model_module_version": "1.2.0",
            "_model_name": "LayoutModel",
            "_view_count": null,
            "_view_module": "@jupyter-widgets/base",
            "_view_module_version": "1.2.0",
            "_view_name": "LayoutView",
            "align_content": null,
            "align_items": null,
            "align_self": null,
            "border": null,
            "bottom": null,
            "display": null,
            "flex": null,
            "flex_flow": null,
            "grid_area": null,
            "grid_auto_columns": null,
            "grid_auto_flow": null,
            "grid_auto_rows": null,
            "grid_column": null,
            "grid_gap": null,
            "grid_row": null,
            "grid_template_areas": null,
            "grid_template_columns": null,
            "grid_template_rows": null,
            "height": null,
            "justify_content": null,
            "justify_items": null,
            "left": null,
            "margin": null,
            "max_height": null,
            "max_width": null,
            "min_height": null,
            "min_width": null,
            "object_fit": null,
            "object_position": null,
            "order": null,
            "overflow": null,
            "overflow_x": null,
            "overflow_y": null,
            "padding": null,
            "right": null,
            "top": null,
            "visibility": null,
            "width": null
          }
        },
        "bf3855651a5f44798be6d8acc07d4a6c": {
          "model_module": "@jupyter-widgets/controls",
          "model_name": "ProgressStyleModel",
          "model_module_version": "1.5.0",
          "state": {
            "_model_module": "@jupyter-widgets/controls",
            "_model_module_version": "1.5.0",
            "_model_name": "ProgressStyleModel",
            "_view_count": null,
            "_view_module": "@jupyter-widgets/base",
            "_view_module_version": "1.2.0",
            "_view_name": "StyleView",
            "bar_color": null,
            "description_width": ""
          }
        },
        "57a806c4b2854e85a5f0c9c82632a484": {
          "model_module": "@jupyter-widgets/base",
          "model_name": "LayoutModel",
          "model_module_version": "1.2.0",
          "state": {
            "_model_module": "@jupyter-widgets/base",
            "_model_module_version": "1.2.0",
            "_model_name": "LayoutModel",
            "_view_count": null,
            "_view_module": "@jupyter-widgets/base",
            "_view_module_version": "1.2.0",
            "_view_name": "LayoutView",
            "align_content": null,
            "align_items": null,
            "align_self": null,
            "border": null,
            "bottom": null,
            "display": null,
            "flex": null,
            "flex_flow": null,
            "grid_area": null,
            "grid_auto_columns": null,
            "grid_auto_flow": null,
            "grid_auto_rows": null,
            "grid_column": null,
            "grid_gap": null,
            "grid_row": null,
            "grid_template_areas": null,
            "grid_template_columns": null,
            "grid_template_rows": null,
            "height": null,
            "justify_content": null,
            "justify_items": null,
            "left": null,
            "margin": null,
            "max_height": null,
            "max_width": null,
            "min_height": null,
            "min_width": null,
            "object_fit": null,
            "object_position": null,
            "order": null,
            "overflow": null,
            "overflow_x": null,
            "overflow_y": null,
            "padding": null,
            "right": null,
            "top": null,
            "visibility": null,
            "width": null
          }
        },
        "ccf61a04ee5d4a3e840eb0c6316b7d79": {
          "model_module": "@jupyter-widgets/controls",
          "model_name": "DescriptionStyleModel",
          "model_module_version": "1.5.0",
          "state": {
            "_model_module": "@jupyter-widgets/controls",
            "_model_module_version": "1.5.0",
            "_model_name": "DescriptionStyleModel",
            "_view_count": null,
            "_view_module": "@jupyter-widgets/base",
            "_view_module_version": "1.2.0",
            "_view_name": "StyleView",
            "description_width": ""
          }
        }
      }
    }
  },
  "nbformat": 4,
  "nbformat_minor": 5
}